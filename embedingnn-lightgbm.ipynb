{
 "cells": [
  {
   "cell_type": "markdown",
   "metadata": {
    "papermill": {
     "duration": 0.017393,
     "end_time": "2021-02-21T13:15:50.047297",
     "exception": false,
     "start_time": "2021-02-21T13:15:50.029904",
     "status": "completed"
    },
    "tags": []
   },
   "source": [
    "## Encoder + MLP\n",
    "The idea of using an encoder is the denoise the data. After many attempts at using a unsupervised autoencoder, the choice landed on a bottleneck encoder as this will preserve the intra-feature relations. "
   ]
  },
  {
   "cell_type": "code",
   "execution_count": 1,
   "metadata": {
    "ExecuteTime": {
     "end_time": "2021-01-08T06:47:54.236821Z",
     "start_time": "2021-01-08T06:47:54.227568Z"
    },
    "execution": {
     "iopub.execute_input": "2021-02-21T13:15:50.084182Z",
     "iopub.status.busy": "2021-02-21T13:15:50.083517Z",
     "iopub.status.idle": "2021-02-21T13:15:55.217312Z",
     "shell.execute_reply": "2021-02-21T13:15:55.216170Z"
    },
    "papermill": {
     "duration": 5.155327,
     "end_time": "2021-02-21T13:15:55.217430",
     "exception": false,
     "start_time": "2021-02-21T13:15:50.062103",
     "status": "completed"
    },
    "tags": []
   },
   "outputs": [],
   "source": [
    "from tensorflow.keras.layers import Input, Dense, BatchNormalization, Dropout, Concatenate, Lambda, GaussianNoise, Activation\n",
    "from tensorflow.keras.models import Model, Sequential\n",
    "from tensorflow.keras.losses import BinaryCrossentropy\n",
    "from tensorflow.keras.optimizers import Adam\n",
    "from tensorflow.keras.callbacks import EarlyStopping\n",
    "import tensorflow as tf\n",
    "import numpy as np\n",
    "import pandas as pd\n",
    "from sklearn.model_selection import GroupKFold\n",
    "\n",
    "from tqdm import tqdm\n",
    "from random import choices"
   ]
  },
  {
   "cell_type": "markdown",
   "metadata": {
    "papermill": {
     "duration": 0.015731,
     "end_time": "2021-02-21T13:15:55.248181",
     "exception": false,
     "start_time": "2021-02-21T13:15:55.232450",
     "status": "completed"
    },
    "tags": []
   },
   "source": [
    "## PurgedGroupTimeSeriesSplit\n",
    "Click the code button to see. "
   ]
  },
  {
   "cell_type": "code",
   "execution_count": 2,
   "metadata": {
    "ExecuteTime": {
     "end_time": "2021-01-08T06:47:56.000272Z",
     "start_time": "2021-01-08T06:47:55.969097Z"
    },
    "_kg_hide-input": true,
    "_kg_hide-output": true,
    "execution": {
     "iopub.execute_input": "2021-02-21T13:15:55.300595Z",
     "iopub.status.busy": "2021-02-21T13:15:55.290677Z",
     "iopub.status.idle": "2021-02-21T13:15:55.303202Z",
     "shell.execute_reply": "2021-02-21T13:15:55.302765Z"
    },
    "papermill": {
     "duration": 0.040345,
     "end_time": "2021-02-21T13:15:55.303289",
     "exception": false,
     "start_time": "2021-02-21T13:15:55.262944",
     "status": "completed"
    },
    "tags": []
   },
   "outputs": [],
   "source": [
    "import numpy as np\n",
    "from sklearn.model_selection import KFold\n",
    "from sklearn.model_selection._split import _BaseKFold, indexable, _num_samples\n",
    "from sklearn.utils.validation import _deprecate_positional_args\n",
    "\n",
    "# modified code for group gaps; source\n",
    "# https://github.com/getgaurav2/scikit-learn/blob/d4a3af5cc9da3a76f0266932644b884c99724c57/sklearn/model_selection/_split.py#L2243\n",
    "class PurgedGroupTimeSeriesSplit(_BaseKFold):\n",
    "    \"\"\"Time Series cross-validator variant with non-overlapping groups.\n",
    "    Allows for a gap in groups to avoid potentially leaking info from\n",
    "    train into test if the model has windowed or lag features.\n",
    "    Provides train/test indices to split time series data samples\n",
    "    that are observed at fixed time intervals according to a\n",
    "    third-party provided group.\n",
    "    In each split, test indices must be higher than before, and thus shuffling\n",
    "    in cross validator is inappropriate.\n",
    "    This cross-validation object is a variation of :class:`KFold`.\n",
    "    In the kth split, it returns first k folds as train set and the\n",
    "    (k+1)th fold as test set.\n",
    "    The same group will not appear in two different folds (the number of\n",
    "    distinct groups has to be at least equal to the number of folds).\n",
    "    Note that unlike standard cross-validation methods, successive\n",
    "    training sets are supersets of those that come before them.\n",
    "    Read more in the :ref:`User Guide <cross_validation>`.\n",
    "    Parameters\n",
    "    ----------\n",
    "    n_splits : int, default=5\n",
    "        Number of splits. Must be at least 2.\n",
    "    max_train_group_size : int, default=Inf\n",
    "        Maximum group size for a single training set.\n",
    "    group_gap : int, default=None\n",
    "        Gap between train and test\n",
    "    max_test_group_size : int, default=Inf\n",
    "        We discard this number of groups from the end of each train split\n",
    "    \"\"\"\n",
    "\n",
    "    @_deprecate_positional_args\n",
    "    def __init__(self,\n",
    "                 n_splits=5,\n",
    "                 *,\n",
    "                 max_train_group_size=np.inf,\n",
    "                 max_test_group_size=np.inf,\n",
    "                 group_gap=None,\n",
    "                 verbose=False\n",
    "                 ):\n",
    "        super().__init__(n_splits, shuffle=False, random_state=None)\n",
    "        self.max_train_group_size = max_train_group_size\n",
    "        self.group_gap = group_gap\n",
    "        self.max_test_group_size = max_test_group_size\n",
    "        self.verbose = verbose\n",
    "\n",
    "    def split(self, X, y=None, groups=None):\n",
    "        \"\"\"Generate indices to split data into training and test set.\n",
    "        Parameters\n",
    "        ----------\n",
    "        X : array-like of shape (n_samples, n_features)\n",
    "            Training data, where n_samples is the number of samples\n",
    "            and n_features is the number of features.\n",
    "        y : array-like of shape (n_samples,)\n",
    "            Always ignored, exists for compatibility.\n",
    "        groups : array-like of shape (n_samples,)\n",
    "            Group labels for the samples used while splitting the dataset into\n",
    "            train/test set.\n",
    "        Yields\n",
    "        ------\n",
    "        train : ndarray\n",
    "            The training set indices for that split.\n",
    "        test : ndarray\n",
    "            The testing set indices for that split.\n",
    "        \"\"\"\n",
    "        if groups is None:\n",
    "            raise ValueError(\n",
    "                \"The 'groups' parameter should not be None\")\n",
    "        X, y, groups = indexable(X, y, groups)\n",
    "        n_samples = _num_samples(X)\n",
    "        n_splits = self.n_splits\n",
    "        group_gap = self.group_gap\n",
    "        max_test_group_size = self.max_test_group_size\n",
    "        max_train_group_size = self.max_train_group_size\n",
    "        n_folds = n_splits + 1\n",
    "        group_dict = {}\n",
    "        u, ind = np.unique(groups, return_index=True)\n",
    "        unique_groups = u[np.argsort(ind)]\n",
    "        n_samples = _num_samples(X)\n",
    "        n_groups = _num_samples(unique_groups)\n",
    "        for idx in np.arange(n_samples):\n",
    "            if (groups[idx] in group_dict):\n",
    "                group_dict[groups[idx]].append(idx)\n",
    "            else:\n",
    "                group_dict[groups[idx]] = [idx]\n",
    "        if n_folds > n_groups:\n",
    "            raise ValueError(\n",
    "                (\"Cannot have number of folds={0} greater than\"\n",
    "                 \" the number of groups={1}\").format(n_folds,\n",
    "                                                     n_groups))\n",
    "\n",
    "        group_test_size = min(n_groups // n_folds, max_test_group_size)\n",
    "        group_test_starts = range(n_groups - n_splits * group_test_size,\n",
    "                                  n_groups, group_test_size)\n",
    "        for group_test_start in group_test_starts:\n",
    "            train_array = []\n",
    "            test_array = []\n",
    "\n",
    "            group_st = max(0, group_test_start - group_gap - max_train_group_size)\n",
    "            for train_group_idx in unique_groups[group_st:(group_test_start - group_gap)]:\n",
    "                train_array_tmp = group_dict[train_group_idx]\n",
    "                \n",
    "                train_array = np.sort(np.unique(\n",
    "                                      np.concatenate((train_array,\n",
    "                                                      train_array_tmp)),\n",
    "                                      axis=None), axis=None)\n",
    "\n",
    "            train_end = train_array.size\n",
    " \n",
    "            for test_group_idx in unique_groups[group_test_start:\n",
    "                                                group_test_start +\n",
    "                                                group_test_size]:\n",
    "                test_array_tmp = group_dict[test_group_idx]\n",
    "                test_array = np.sort(np.unique(\n",
    "                                              np.concatenate((test_array,\n",
    "                                                              test_array_tmp)),\n",
    "                                     axis=None), axis=None)\n",
    "\n",
    "            test_array  = test_array[group_gap:]\n",
    "            \n",
    "            \n",
    "            if self.verbose > 0:\n",
    "                    pass\n",
    "                    \n",
    "            yield [int(i) for i in train_array], [int(i) for i in test_array]"
   ]
  },
  {
   "cell_type": "markdown",
   "metadata": {
    "papermill": {
     "duration": 0.014707,
     "end_time": "2021-02-21T13:15:55.332559",
     "exception": false,
     "start_time": "2021-02-21T13:15:55.317852",
     "status": "completed"
    },
    "tags": []
   },
   "source": [
    "### Loading the training data"
   ]
  },
  {
   "cell_type": "code",
   "execution_count": 3,
   "metadata": {
    "ExecuteTime": {
     "end_time": "2021-01-08T06:50:51.883506Z",
     "start_time": "2021-01-08T06:49:46.876468Z"
    },
    "execution": {
     "iopub.execute_input": "2021-02-21T13:15:55.374269Z",
     "iopub.status.busy": "2021-02-21T13:15:55.369119Z",
     "iopub.status.idle": "2021-02-21T13:18:32.442097Z",
     "shell.execute_reply": "2021-02-21T13:18:32.440824Z"
    },
    "papermill": {
     "duration": 157.095015,
     "end_time": "2021-02-21T13:18:32.442229",
     "exception": false,
     "start_time": "2021-02-21T13:15:55.347214",
     "status": "completed"
    },
    "tags": []
   },
   "outputs": [],
   "source": [
    "TRAINING = False\n",
    "USE_FINETUNE = False    \n",
    "FOLDS = 5\n",
    "SEED = 1112\n",
    "\n",
    "train = pd.read_csv('../input/jane-street-market-prediction/train.csv')\n",
    "train = train.query('date > 85').reset_index(drop = True) \n",
    "train = train.astype({c: np.float32 for c in train.select_dtypes(include='float64').columns}) #limit memory use\n",
    "train.fillna(train.mean(),inplace=True)\n",
    "train = train.query('weight > 0').reset_index(drop = True)\n",
    "train['action'] = (train['resp'] > 0).astype('int')\n",
    "#train['action'] =  (  (train['resp_1'] > 0 ) & (train['resp_2'] > 0 ) & (train['resp_3'] > 0 ) & (train['resp_4'] > 0 ) &  (train['resp'] > 0 )   ).astype('int')\n",
    "features = [c for c in train.columns if 'feature' in c]\n",
    "\n",
    "resp_cols = ['resp_1', 'resp_2', 'resp_3', 'resp', 'resp_4']\n",
    "\n",
    "X = train[features].values\n",
    "y = np.stack([(train[c] > 0).astype('int') for c in resp_cols]).T #Multitarget\n",
    "\n",
    "f_mean = np.mean(train[features[1:]].values,axis=0)"
   ]
  },
  {
   "cell_type": "markdown",
   "metadata": {
    "papermill": {
     "duration": 0.014312,
     "end_time": "2021-02-21T13:18:32.471478",
     "exception": false,
     "start_time": "2021-02-21T13:18:32.457166",
     "status": "completed"
    },
    "tags": []
   },
   "source": [
    "### Creating the autoencoder. \n",
    "The autoencoder should aid in denoising the data. Based on [this](https://www.semanticscholar.org/paper/Deep-Bottleneck-Classifiers-in-Supervised-Dimension-Parviainen/fb86483f7573f6430fe4597432b0cd3e34b16e43) paper. "
   ]
  },
  {
   "cell_type": "code",
   "execution_count": 4,
   "metadata": {
    "ExecuteTime": {
     "end_time": "2021-01-08T07:06:18.567941Z",
     "start_time": "2021-01-08T07:06:18.553402Z"
    },
    "execution": {
     "iopub.execute_input": "2021-02-21T13:18:32.512266Z",
     "iopub.status.busy": "2021-02-21T13:18:32.510498Z",
     "iopub.status.idle": "2021-02-21T13:18:32.512886Z",
     "shell.execute_reply": "2021-02-21T13:18:32.513281Z"
    },
    "papermill": {
     "duration": 0.027308,
     "end_time": "2021-02-21T13:18:32.513387",
     "exception": false,
     "start_time": "2021-02-21T13:18:32.486079",
     "status": "completed"
    },
    "tags": []
   },
   "outputs": [],
   "source": [
    "def create_autoencoder(input_dim,output_dim,noise=0.05):\n",
    "    i = Input(input_dim)\n",
    "    encoded = BatchNormalization()(i)\n",
    "    encoded = GaussianNoise(noise)(encoded)\n",
    "    encoded = Dense(64,activation='relu')(encoded)\n",
    "    decoded = Dropout(0.2)(encoded)\n",
    "    decoded = Dense(input_dim,name='decoded')(decoded)\n",
    "    x = Dense(32,activation='relu')(decoded)\n",
    "    x = BatchNormalization()(x)\n",
    "    x = Dropout(0.2)(x)\n",
    "    x = Dense(32,activation='relu')(x)\n",
    "    x = BatchNormalization()(x)\n",
    "    x = Dropout(0.2)(x)    \n",
    "    x = Dense(output_dim,activation='sigmoid',name='label_output')(x)\n",
    "    \n",
    "    encoder = Model(inputs=i,outputs=encoded)\n",
    "    autoencoder = Model(inputs=i,outputs=[decoded,x])\n",
    "    \n",
    "    autoencoder.compile(optimizer=Adam(0.005),loss={'decoded':'mse','label_output':'binary_crossentropy'})\n",
    "    return autoencoder, encoder"
   ]
  },
  {
   "cell_type": "markdown",
   "metadata": {
    "papermill": {
     "duration": 0.014188,
     "end_time": "2021-02-21T13:18:32.542002",
     "exception": false,
     "start_time": "2021-02-21T13:18:32.527814",
     "status": "completed"
    },
    "tags": []
   },
   "source": [
    "### Creating the MLP. "
   ]
  },
  {
   "cell_type": "code",
   "execution_count": 5,
   "metadata": {
    "ExecuteTime": {
     "end_time": "2021-01-08T07:02:28.261279Z",
     "start_time": "2021-01-08T07:02:28.248517Z"
    },
    "_cell_guid": "79c7e3d0-c299-4dcb-8224-4455121ee9b0",
    "_uuid": "d629ff2d2480ee46fbb7e2d37f6b5fab8052498a",
    "execution": {
     "iopub.execute_input": "2021-02-21T13:18:32.579479Z",
     "iopub.status.busy": "2021-02-21T13:18:32.578821Z",
     "iopub.status.idle": "2021-02-21T13:18:32.582207Z",
     "shell.execute_reply": "2021-02-21T13:18:32.581787Z"
    },
    "papermill": {
     "duration": 0.025906,
     "end_time": "2021-02-21T13:18:32.582288",
     "exception": false,
     "start_time": "2021-02-21T13:18:32.556382",
     "status": "completed"
    },
    "tags": []
   },
   "outputs": [],
   "source": [
    "def create_model(input_dim,output_dim,encoder):\n",
    "    inputs = Input(input_dim)\n",
    "    \n",
    "    x = encoder(inputs)\n",
    "    x = Concatenate()([x,inputs]) #use both raw and encoded features\n",
    "    x = BatchNormalization()(x)\n",
    "    x = Dropout(0.13)(x)\n",
    "    \n",
    "    hidden_units = [384, 896, 896, 394]\n",
    "    for idx, hidden_unit in enumerate(hidden_units):\n",
    "        x = Dense(hidden_unit)(x)\n",
    "        x = BatchNormalization()(x)\n",
    "        x = Lambda(tf.keras.activations.relu)(x)\n",
    "        x = Dropout(0.25)(x)\n",
    "    x = Dense(output_dim,activation='sigmoid')(x)\n",
    "    model = Model(inputs=inputs,outputs=x)\n",
    "    model.compile(optimizer=Adam(0.0001),loss=BinaryCrossentropy(label_smoothing=0.001),metrics=[tf.keras.metrics.AUC(name = 'auc')])\n",
    "    return model"
   ]
  },
  {
   "cell_type": "markdown",
   "metadata": {
    "papermill": {
     "duration": 0.015029,
     "end_time": "2021-02-21T13:18:32.611685",
     "exception": false,
     "start_time": "2021-02-21T13:18:32.596656",
     "status": "completed"
    },
    "tags": []
   },
   "source": [
    "### Defining and training the autoencoder. \n",
    "We add gaussian noise with mean and std from training data. After training we lock the layers in the encoder from further training. "
   ]
  },
  {
   "cell_type": "code",
   "execution_count": 6,
   "metadata": {
    "ExecuteTime": {
     "end_time": "2021-01-08T06:53:26.369557Z",
     "start_time": "2021-01-08T06:51:23.43509Z"
    },
    "execution": {
     "iopub.execute_input": "2021-02-21T13:18:32.645026Z",
     "iopub.status.busy": "2021-02-21T13:18:32.644468Z",
     "iopub.status.idle": "2021-02-21T13:18:35.152815Z",
     "shell.execute_reply": "2021-02-21T13:18:35.151503Z"
    },
    "papermill": {
     "duration": 2.526746,
     "end_time": "2021-02-21T13:18:35.152944",
     "exception": false,
     "start_time": "2021-02-21T13:18:32.626198",
     "status": "completed"
    },
    "scrolled": true,
    "tags": []
   },
   "outputs": [],
   "source": [
    "autoencoder, encoder = create_autoencoder(X.shape[-1],y.shape[-1],noise=0.1)\n",
    "\n",
    "encoder.load_weights('../input/jane-model/encoder.hdf5')\n",
    "encoder.trainable = False"
   ]
  },
  {
   "cell_type": "markdown",
   "metadata": {
    "papermill": {
     "duration": 0.014372,
     "end_time": "2021-02-21T13:18:35.181988",
     "exception": false,
     "start_time": "2021-02-21T13:18:35.167616",
     "status": "completed"
    },
    "tags": []
   },
   "source": [
    "### Running CV\n",
    "Following [this notebook](https://www.kaggle.com/gogo827jz/jane-street-ffill-xgboost-purgedtimeseriescv) which use 5 PurgedGroupTimeSeriesSplit split on the dates in the training data. \n",
    "\n",
    "We add the locked encoder as the first layer of the MLP. This seems to help in speeding up the submission rather than first predicting using the encoder then using the MLP. "
   ]
  },
  {
   "cell_type": "markdown",
   "metadata": {
    "papermill": {
     "duration": 0.014316,
     "end_time": "2021-02-21T13:18:35.210668",
     "exception": false,
     "start_time": "2021-02-21T13:18:35.196352",
     "status": "completed"
    },
    "tags": []
   },
   "source": [
    "We use a Baysian Optimizer to find the optimal HPs for out model. 20 trials take about 2 hours on GPU. "
   ]
  },
  {
   "cell_type": "code",
   "execution_count": 7,
   "metadata": {
    "ExecuteTime": {
     "end_time": "2021-01-08T07:19:30.42412Z",
     "start_time": "2021-01-08T07:06:25.315363Z"
    },
    "execution": {
     "iopub.execute_input": "2021-02-21T13:18:35.249339Z",
     "iopub.status.busy": "2021-02-21T13:18:35.248281Z",
     "iopub.status.idle": "2021-02-21T13:18:37.772398Z",
     "shell.execute_reply": "2021-02-21T13:18:37.771342Z"
    },
    "papermill": {
     "duration": 2.547424,
     "end_time": "2021-02-21T13:18:37.772521",
     "exception": false,
     "start_time": "2021-02-21T13:18:35.225097",
     "status": "completed"
    },
    "scrolled": true,
    "tags": []
   },
   "outputs": [],
   "source": [
    "FOLDS = 5\n",
    "SEED = 1112\n",
    "\n",
    "\n",
    "nn_models = []\n",
    "for f in range(FOLDS):\n",
    "    model = create_model(130, 5, encoder)\n",
    "    if USE_FINETUNE:\n",
    "        model.load_weights(f'../input/jane-model/model_{SEED}_{f}_finetune.hdf5')\n",
    "    else:\n",
    "        model.load_weights(f'../input/jane-model/model_{SEED}_{f}.hdf5')\n",
    "    nn_models.append(model)\n",
    "    "
   ]
  },
  {
   "cell_type": "markdown",
   "metadata": {
    "papermill": {
     "duration": 0.015467,
     "end_time": "2021-02-21T13:18:37.803910",
     "exception": false,
     "start_time": "2021-02-21T13:18:37.788443",
     "status": "completed"
    },
    "tags": []
   },
   "source": [
    "# LightGBM"
   ]
  },
  {
   "cell_type": "code",
   "execution_count": 8,
   "metadata": {
    "execution": {
     "iopub.execute_input": "2021-02-21T13:18:37.873989Z",
     "iopub.status.busy": "2021-02-21T13:18:37.873394Z",
     "iopub.status.idle": "2021-02-21T13:18:41.976984Z",
     "shell.execute_reply": "2021-02-21T13:18:41.975956Z"
    },
    "papermill": {
     "duration": 4.12483,
     "end_time": "2021-02-21T13:18:41.977292",
     "exception": false,
     "start_time": "2021-02-21T13:18:37.852462",
     "status": "completed"
    },
    "tags": []
   },
   "outputs": [
    {
     "data": {
      "text/html": [
       "<style type='text/css'>\n",
       ".datatable table.frame { margin-bottom: 0; }\n",
       ".datatable table.frame thead { border-bottom: none; }\n",
       ".datatable table.frame tr.coltypes td {  color: #FFFFFF;  line-height: 6px;  padding: 0 0.5em;}\n",
       ".datatable .bool    { background: #DDDD99; }\n",
       ".datatable .object  { background: #565656; }\n",
       ".datatable .int     { background: #5D9E5D; }\n",
       ".datatable .float   { background: #4040CC; }\n",
       ".datatable .str     { background: #CC4040; }\n",
       ".datatable .row_index {  background: var(--jp-border-color3);  border-right: 1px solid var(--jp-border-color0);  color: var(--jp-ui-font-color3);  font-size: 9px;}\n",
       ".datatable .frame tr.coltypes .row_index {  background: var(--jp-border-color0);}\n",
       ".datatable th:nth-child(2) { padding-left: 12px; }\n",
       ".datatable .hellipsis {  color: var(--jp-cell-editor-border-color);}\n",
       ".datatable .vellipsis {  background: var(--jp-layout-color0);  color: var(--jp-cell-editor-border-color);}\n",
       ".datatable .na {  color: var(--jp-cell-editor-border-color);  font-size: 80%;}\n",
       ".datatable .footer { font-size: 9px; }\n",
       ".datatable .frame_dimensions {  background: var(--jp-border-color3);  border-top: 1px solid var(--jp-border-color0);  color: var(--jp-ui-font-color3);  display: inline-block;  opacity: 0.6;  padding: 1px 10px 1px 5px;}\n",
       "</style>\n"
      ],
      "text/plain": [
       "<IPython.core.display.HTML object>"
      ]
     },
     "metadata": {},
     "output_type": "display_data"
    }
   ],
   "source": [
    "import pandas as pd\n",
    "import numpy as np\n",
    "from sklearn.preprocessing import StandardScaler\n",
    "from sklearn.decomposition import PCA\n",
    "import seaborn as sns\n",
    "import matplotlib.pyplot as plt\n",
    "import optuna\n",
    "\n",
    "import pickle\n",
    "import lightgbm as lgbm\n",
    "from lightgbm import LGBMClassifier\n",
    "from sklearn.model_selection import train_test_split\n",
    "from sklearn.metrics import roc_auc_score\n",
    "#plt.style.use('fivethirtyeight')\n",
    "import xgboost as xgb\n",
    "import sklearn\n",
    "import tqdm\n",
    "import random\n",
    "import janestreet\n",
    "import tensorflow as tf"
   ]
  },
  {
   "cell_type": "code",
   "execution_count": 9,
   "metadata": {
    "execution": {
     "iopub.execute_input": "2021-02-21T13:18:42.015179Z",
     "iopub.status.busy": "2021-02-21T13:18:42.013333Z",
     "iopub.status.idle": "2021-02-21T13:18:42.015759Z",
     "shell.execute_reply": "2021-02-21T13:18:42.016177Z"
    },
    "papermill": {
     "duration": 0.023183,
     "end_time": "2021-02-21T13:18:42.016280",
     "exception": false,
     "start_time": "2021-02-21T13:18:41.993097",
     "status": "completed"
    },
    "tags": []
   },
   "outputs": [],
   "source": [
    "random.seed(SEED)\n",
    "np.random.seed(SEED)\n",
    "tf.random.set_seed(SEED)"
   ]
  },
  {
   "cell_type": "code",
   "execution_count": 10,
   "metadata": {
    "execution": {
     "iopub.execute_input": "2021-02-21T13:18:42.050634Z",
     "iopub.status.busy": "2021-02-21T13:18:42.050146Z",
     "iopub.status.idle": "2021-02-21T13:18:42.053867Z",
     "shell.execute_reply": "2021-02-21T13:18:42.053448Z"
    },
    "papermill": {
     "duration": 0.022263,
     "end_time": "2021-02-21T13:18:42.053960",
     "exception": false,
     "start_time": "2021-02-21T13:18:42.031697",
     "status": "completed"
    },
    "tags": []
   },
   "outputs": [],
   "source": [
    "\n",
    "resp_cols = ['resp_1', 'resp_2', 'resp_3', 'resp']"
   ]
  },
  {
   "cell_type": "code",
   "execution_count": 11,
   "metadata": {
    "execution": {
     "iopub.execute_input": "2021-02-21T13:18:42.321850Z",
     "iopub.status.busy": "2021-02-21T13:18:42.320593Z",
     "iopub.status.idle": "2021-02-21T13:18:42.764929Z",
     "shell.execute_reply": "2021-02-21T13:18:42.764454Z"
    },
    "papermill": {
     "duration": 0.695776,
     "end_time": "2021-02-21T13:18:42.765033",
     "exception": false,
     "start_time": "2021-02-21T13:18:42.069257",
     "status": "completed"
    },
    "tags": []
   },
   "outputs": [],
   "source": [
    "X_train=train[features].values\n",
    "#print(len(X_train))\n",
    "#y_train = (train.loc[:, 'action'])\n",
    "\n",
    "y_train = np.stack([(train[c] > 0).astype('int') for c in resp_cols]).T"
   ]
  },
  {
   "cell_type": "code",
   "execution_count": 12,
   "metadata": {
    "execution": {
     "iopub.execute_input": "2021-02-21T13:18:42.802313Z",
     "iopub.status.busy": "2021-02-21T13:18:42.801506Z",
     "iopub.status.idle": "2021-02-21T13:18:42.813907Z",
     "shell.execute_reply": "2021-02-21T13:18:42.813418Z"
    },
    "papermill": {
     "duration": 0.032711,
     "end_time": "2021-02-21T13:18:42.814002",
     "exception": false,
     "start_time": "2021-02-21T13:18:42.781291",
     "status": "completed"
    },
    "tags": []
   },
   "outputs": [],
   "source": [
    "import optuna.integration.lightgbm as lgb\n",
    "from sklearn.metrics import accuracy_score"
   ]
  },
  {
   "cell_type": "code",
   "execution_count": 13,
   "metadata": {
    "execution": {
     "iopub.execute_input": "2021-02-21T13:18:42.856791Z",
     "iopub.status.busy": "2021-02-21T13:18:42.855434Z",
     "iopub.status.idle": "2021-02-21T14:15:56.102669Z",
     "shell.execute_reply": "2021-02-21T14:15:56.103640Z"
    },
    "papermill": {
     "duration": 3433.273214,
     "end_time": "2021-02-21T14:15:56.103807",
     "exception": false,
     "start_time": "2021-02-21T13:18:42.830593",
     "status": "completed"
    },
    "tags": []
   },
   "outputs": [
    {
     "name": "stdout",
     "output_type": "stream",
     "text": [
      "Training until validation scores don't improve for 20 rounds\n",
      "[50]\ttraining's auc: 0.621222\tvalid_1's auc: 0.586972\n",
      "[100]\ttraining's auc: 0.651948\tvalid_1's auc: 0.599976\n",
      "[150]\ttraining's auc: 0.675353\tvalid_1's auc: 0.605186\n",
      "[200]\ttraining's auc: 0.696197\tvalid_1's auc: 0.609265\n",
      "[250]\ttraining's auc: 0.715395\tvalid_1's auc: 0.612112\n",
      "[300]\ttraining's auc: 0.732108\tvalid_1's auc: 0.61478\n",
      "[350]\ttraining's auc: 0.749471\tvalid_1's auc: 0.616542\n",
      "[400]\ttraining's auc: 0.76365\tvalid_1's auc: 0.61809\n",
      "[450]\ttraining's auc: 0.77723\tvalid_1's auc: 0.619303\n",
      "[500]\ttraining's auc: 0.79049\tvalid_1's auc: 0.620222\n",
      "[550]\ttraining's auc: 0.803327\tvalid_1's auc: 0.621483\n",
      "[600]\ttraining's auc: 0.815711\tvalid_1's auc: 0.622227\n",
      "[650]\ttraining's auc: 0.826379\tvalid_1's auc: 0.623035\n",
      "[700]\ttraining's auc: 0.835739\tvalid_1's auc: 0.623894\n",
      "[750]\ttraining's auc: 0.845403\tvalid_1's auc: 0.624338\n",
      "[800]\ttraining's auc: 0.854917\tvalid_1's auc: 0.624879\n",
      "[850]\ttraining's auc: 0.864069\tvalid_1's auc: 0.625529\n",
      "[900]\ttraining's auc: 0.872448\tvalid_1's auc: 0.626197\n",
      "[950]\ttraining's auc: 0.879648\tvalid_1's auc: 0.62631\n",
      "[1000]\ttraining's auc: 0.886793\tvalid_1's auc: 0.626671\n",
      "Did not meet early stopping. Best iteration is:\n",
      "[1000]\ttraining's auc: 0.886793\tvalid_1's auc: 0.626671\n",
      "Training until validation scores don't improve for 20 rounds\n",
      "[50]\ttraining's auc: 0.616591\tvalid_1's auc: 0.579977\n",
      "[100]\ttraining's auc: 0.65139\tvalid_1's auc: 0.596748\n",
      "[150]\ttraining's auc: 0.679106\tvalid_1's auc: 0.604496\n",
      "[200]\ttraining's auc: 0.703119\tvalid_1's auc: 0.609111\n",
      "[250]\ttraining's auc: 0.724435\tvalid_1's auc: 0.612805\n",
      "[300]\ttraining's auc: 0.743526\tvalid_1's auc: 0.615676\n",
      "[350]\ttraining's auc: 0.762067\tvalid_1's auc: 0.617879\n",
      "[400]\ttraining's auc: 0.778986\tvalid_1's auc: 0.620011\n",
      "[450]\ttraining's auc: 0.794882\tvalid_1's auc: 0.621447\n",
      "[500]\ttraining's auc: 0.809232\tvalid_1's auc: 0.623129\n",
      "[550]\ttraining's auc: 0.822623\tvalid_1's auc: 0.624792\n",
      "[600]\ttraining's auc: 0.835061\tvalid_1's auc: 0.625818\n",
      "[650]\ttraining's auc: 0.846349\tvalid_1's auc: 0.627032\n",
      "[700]\ttraining's auc: 0.856916\tvalid_1's auc: 0.627959\n",
      "[750]\ttraining's auc: 0.866531\tvalid_1's auc: 0.629459\n",
      "[800]\ttraining's auc: 0.875264\tvalid_1's auc: 0.630249\n",
      "[850]\ttraining's auc: 0.88412\tvalid_1's auc: 0.631119\n",
      "[900]\ttraining's auc: 0.891925\tvalid_1's auc: 0.631892\n",
      "[950]\ttraining's auc: 0.899581\tvalid_1's auc: 0.632468\n",
      "[1000]\ttraining's auc: 0.906964\tvalid_1's auc: 0.633875\n",
      "Did not meet early stopping. Best iteration is:\n",
      "[1000]\ttraining's auc: 0.906964\tvalid_1's auc: 0.633875\n",
      "Training until validation scores don't improve for 20 rounds\n",
      "[50]\ttraining's auc: 0.629689\tvalid_1's auc: 0.588577\n",
      "[100]\ttraining's auc: 0.672087\tvalid_1's auc: 0.614542\n",
      "[150]\ttraining's auc: 0.705951\tvalid_1's auc: 0.627354\n",
      "[200]\ttraining's auc: 0.734918\tvalid_1's auc: 0.634277\n",
      "[250]\ttraining's auc: 0.759448\tvalid_1's auc: 0.641049\n",
      "[300]\ttraining's auc: 0.779914\tvalid_1's auc: 0.645623\n",
      "[350]\ttraining's auc: 0.798602\tvalid_1's auc: 0.652061\n",
      "[400]\ttraining's auc: 0.816354\tvalid_1's auc: 0.655107\n",
      "[450]\ttraining's auc: 0.831884\tvalid_1's auc: 0.659151\n",
      "[500]\ttraining's auc: 0.846393\tvalid_1's auc: 0.66167\n",
      "[550]\ttraining's auc: 0.858562\tvalid_1's auc: 0.664233\n",
      "[600]\ttraining's auc: 0.870082\tvalid_1's auc: 0.666438\n",
      "[650]\ttraining's auc: 0.881935\tvalid_1's auc: 0.667753\n",
      "[700]\ttraining's auc: 0.891608\tvalid_1's auc: 0.669655\n",
      "[750]\ttraining's auc: 0.900458\tvalid_1's auc: 0.671163\n",
      "[800]\ttraining's auc: 0.908922\tvalid_1's auc: 0.672312\n",
      "[850]\ttraining's auc: 0.916861\tvalid_1's auc: 0.674692\n",
      "[900]\ttraining's auc: 0.923936\tvalid_1's auc: 0.675645\n",
      "[950]\ttraining's auc: 0.929809\tvalid_1's auc: 0.677595\n",
      "[1000]\ttraining's auc: 0.935213\tvalid_1's auc: 0.679093\n",
      "Did not meet early stopping. Best iteration is:\n",
      "[1000]\ttraining's auc: 0.935213\tvalid_1's auc: 0.679093\n",
      "Training until validation scores don't improve for 20 rounds\n",
      "[50]\ttraining's auc: 0.640921\tvalid_1's auc: 0.608929\n",
      "[100]\ttraining's auc: 0.68903\tvalid_1's auc: 0.636459\n",
      "[150]\ttraining's auc: 0.724512\tvalid_1's auc: 0.649511\n",
      "[200]\ttraining's auc: 0.755927\tvalid_1's auc: 0.658735\n",
      "[250]\ttraining's auc: 0.781381\tvalid_1's auc: 0.663171\n",
      "[300]\ttraining's auc: 0.801859\tvalid_1's auc: 0.668576\n",
      "[350]\ttraining's auc: 0.819979\tvalid_1's auc: 0.672629\n",
      "[400]\ttraining's auc: 0.835836\tvalid_1's auc: 0.679204\n",
      "[450]\ttraining's auc: 0.849237\tvalid_1's auc: 0.684192\n",
      "[500]\ttraining's auc: 0.863373\tvalid_1's auc: 0.685857\n",
      "[550]\ttraining's auc: 0.874924\tvalid_1's auc: 0.689407\n",
      "[600]\ttraining's auc: 0.885248\tvalid_1's auc: 0.69368\n",
      "[650]\ttraining's auc: 0.895793\tvalid_1's auc: 0.696245\n",
      "[700]\ttraining's auc: 0.904592\tvalid_1's auc: 0.698459\n",
      "[750]\ttraining's auc: 0.913547\tvalid_1's auc: 0.700236\n",
      "[800]\ttraining's auc: 0.921579\tvalid_1's auc: 0.702288\n",
      "[850]\ttraining's auc: 0.927659\tvalid_1's auc: 0.704495\n",
      "[900]\ttraining's auc: 0.933816\tvalid_1's auc: 0.706264\n",
      "[950]\ttraining's auc: 0.939532\tvalid_1's auc: 0.707212\n",
      "[1000]\ttraining's auc: 0.94507\tvalid_1's auc: 0.708103\n",
      "Did not meet early stopping. Best iteration is:\n",
      "[1000]\ttraining's auc: 0.94507\tvalid_1's auc: 0.708103\n"
     ]
    }
   ],
   "source": [
    "# modeling step \n",
    "params={\"num_leaves\":300,\n",
    "       \"max_bin\":450,\n",
    "       \"feature_fraction\":0.52,\n",
    "       \"bagging_fraction\":0.52,\n",
    "       \"objective\":\"binary\",\n",
    "       \"learning_rate\":0.05,\n",
    "       \"boosting_type\":\"gbdt\",\n",
    "       \"metric\":\"auc\"\n",
    "       }\n",
    "#model的前面是nn，后面是lightgbm\n",
    "lgbm_models = [] # list of model , we will train \n",
    "\n",
    "for i in range(y_train.shape[1]):\n",
    "    xtr,xval,ytr,yval = train_test_split(X_train ,y_train[:,i],test_size=0.2,stratify=y_train[:,i])\n",
    "   \n",
    "    d_train = lgbm.Dataset(xtr,label=ytr)\n",
    "    d_eval = lgbm.Dataset(xval,label=yval,reference=d_train)\n",
    "    clf = lgbm.train(params,d_train,valid_sets=[d_train,d_eval],num_boost_round=1000,\\\n",
    "                    early_stopping_rounds=20,verbose_eval=50)\n",
    "    lgbm_models.append(clf)\n"
   ]
  },
  {
   "cell_type": "code",
   "execution_count": 14,
   "metadata": {
    "execution": {
     "iopub.execute_input": "2021-02-21T14:15:56.211551Z",
     "iopub.status.busy": "2021-02-21T14:15:56.210768Z",
     "iopub.status.idle": "2021-02-21T14:15:56.212707Z",
     "shell.execute_reply": "2021-02-21T14:15:56.212152Z"
    },
    "papermill": {
     "duration": 0.058199,
     "end_time": "2021-02-21T14:15:56.212812",
     "exception": false,
     "start_time": "2021-02-21T14:15:56.154613",
     "status": "completed"
    },
    "tags": []
   },
   "outputs": [],
   "source": [
    "VER = 1"
   ]
  },
  {
   "cell_type": "markdown",
   "metadata": {
    "papermill": {
     "duration": 0.041091,
     "end_time": "2021-02-21T14:15:56.304297",
     "exception": false,
     "start_time": "2021-02-21T14:15:56.263206",
     "status": "completed"
    },
    "tags": []
   },
   "source": [
    "## Submission"
   ]
  },
  {
   "cell_type": "code",
   "execution_count": 15,
   "metadata": {
    "ExecuteTime": {
     "end_time": "2021-01-08T07:25:17.812156Z",
     "start_time": "2021-01-08T07:25:17.797935Z"
    },
    "execution": {
     "iopub.execute_input": "2021-02-21T14:15:56.395135Z",
     "iopub.status.busy": "2021-02-21T14:15:56.394378Z",
     "iopub.status.idle": "2021-02-21T14:20:56.321070Z",
     "shell.execute_reply": "2021-02-21T14:20:56.319959Z"
    },
    "papermill": {
     "duration": 299.977982,
     "end_time": "2021-02-21T14:20:56.321196",
     "exception": false,
     "start_time": "2021-02-21T14:15:56.343214",
     "status": "completed"
    },
    "tags": []
   },
   "outputs": [],
   "source": [
    "if not TRAINING:\n",
    "    f = np.median\n",
    "    nn_models = nn_models[-1:]\n",
    "    import janestreet\n",
    "    env = janestreet.make_env()\n",
    "    th = 0.4918\n",
    "    for (test_df, pred_df) in env.iter_test():\n",
    "        if test_df['weight'].item() > 0:\n",
    "            x_tt = test_df.loc[:, features].values\n",
    "            #print（x_tt）\n",
    "            if np.isnan(x_tt[:, 1:].sum()):\n",
    "                x_tt[:, 1:] = np.nan_to_num(x_tt[:, 1:]) + np.isnan(x_tt[:, 1:]) * f_mean\n",
    "            \n",
    "            #nn预测\n",
    "            nn_pred = np.mean([model(x_tt, training = False).numpy() for model in nn_models],axis=0)\n",
    "            nn_pred = f(nn_pred)\n",
    "            #lgbm预测\n",
    "            lgbm_pred = f(np.stack([model.predict(x_tt) for model in lgbm_models]),axis=0).T\n",
    "            #avg\n",
    "            pred = nn_pred * 0.5 + lgbm_pred * 0.5\n",
    "            pred_df.action = np.where(pred >= th, 1, 0).astype(int)\n",
    "        else:\n",
    "            pred_df.action = 0\n",
    "        env.predict(pred_df)"
   ]
  },
  {
   "cell_type": "markdown",
   "metadata": {
    "papermill": {
     "duration": 0.038551,
     "end_time": "2021-02-21T14:20:56.400108",
     "exception": false,
     "start_time": "2021-02-21T14:20:56.361557",
     "status": "completed"
    },
    "tags": []
   },
   "source": []
  },
  {
   "cell_type": "code",
   "execution_count": null,
   "metadata": {
    "papermill": {
     "duration": 0.038834,
     "end_time": "2021-02-21T14:20:56.478360",
     "exception": false,
     "start_time": "2021-02-21T14:20:56.439526",
     "status": "completed"
    },
    "tags": []
   },
   "outputs": [],
   "source": []
  }
 ],
 "metadata": {
  "kernelspec": {
   "display_name": "Python 3",
   "language": "python",
   "name": "python3"
  },
  "language_info": {
   "codemirror_mode": {
    "name": "ipython",
    "version": 3
   },
   "file_extension": ".py",
   "mimetype": "text/x-python",
   "name": "python",
   "nbconvert_exporter": "python",
   "pygments_lexer": "ipython3",
   "version": "3.7.6"
  },
  "papermill": {
   "duration": 3911.876968,
   "end_time": "2021-02-21T14:20:58.226465",
   "environment_variables": {},
   "exception": null,
   "input_path": "__notebook__.ipynb",
   "output_path": "__notebook__.ipynb",
   "parameters": {},
   "start_time": "2021-02-21T13:15:46.349497",
   "version": "2.1.0"
  }
 },
 "nbformat": 4,
 "nbformat_minor": 4
}
